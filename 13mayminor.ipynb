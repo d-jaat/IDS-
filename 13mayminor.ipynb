{
  "nbformat": 4,
  "nbformat_minor": 0,
  "metadata": {
    "colab": {
      "provenance": [],
      "gpuType": "T4"
    },
    "kernelspec": {
      "name": "python3",
      "display_name": "Python 3"
    },
    "language_info": {
      "name": "python"
    },
    "accelerator": "GPU"
  },
  "cells": [
    {
      "cell_type": "code",
      "source": [
        "!pip install xgboost catboost"
      ],
      "metadata": {
        "colab": {
          "base_uri": "https://localhost:8080/"
        },
        "id": "ErGVQb0lrqvh",
        "outputId": "d2be3836-a1ac-48f8-cb13-165218d98064"
      },
      "execution_count": 1,
      "outputs": [
        {
          "output_type": "stream",
          "name": "stdout",
          "text": [
            "Requirement already satisfied: xgboost in /usr/local/lib/python3.11/dist-packages (2.1.4)\n",
            "Collecting catboost\n",
            "  Downloading catboost-1.2.8-cp311-cp311-manylinux2014_x86_64.whl.metadata (1.2 kB)\n",
            "Requirement already satisfied: numpy in /usr/local/lib/python3.11/dist-packages (from xgboost) (2.0.2)\n",
            "Requirement already satisfied: nvidia-nccl-cu12 in /usr/local/lib/python3.11/dist-packages (from xgboost) (2.21.5)\n",
            "Requirement already satisfied: scipy in /usr/local/lib/python3.11/dist-packages (from xgboost) (1.15.2)\n",
            "Requirement already satisfied: graphviz in /usr/local/lib/python3.11/dist-packages (from catboost) (0.20.3)\n",
            "Requirement already satisfied: matplotlib in /usr/local/lib/python3.11/dist-packages (from catboost) (3.10.0)\n",
            "Requirement already satisfied: pandas>=0.24 in /usr/local/lib/python3.11/dist-packages (from catboost) (2.2.2)\n",
            "Requirement already satisfied: plotly in /usr/local/lib/python3.11/dist-packages (from catboost) (5.24.1)\n",
            "Requirement already satisfied: six in /usr/local/lib/python3.11/dist-packages (from catboost) (1.17.0)\n",
            "Requirement already satisfied: python-dateutil>=2.8.2 in /usr/local/lib/python3.11/dist-packages (from pandas>=0.24->catboost) (2.9.0.post0)\n",
            "Requirement already satisfied: pytz>=2020.1 in /usr/local/lib/python3.11/dist-packages (from pandas>=0.24->catboost) (2025.2)\n",
            "Requirement already satisfied: tzdata>=2022.7 in /usr/local/lib/python3.11/dist-packages (from pandas>=0.24->catboost) (2025.2)\n",
            "Requirement already satisfied: contourpy>=1.0.1 in /usr/local/lib/python3.11/dist-packages (from matplotlib->catboost) (1.3.2)\n",
            "Requirement already satisfied: cycler>=0.10 in /usr/local/lib/python3.11/dist-packages (from matplotlib->catboost) (0.12.1)\n",
            "Requirement already satisfied: fonttools>=4.22.0 in /usr/local/lib/python3.11/dist-packages (from matplotlib->catboost) (4.57.0)\n",
            "Requirement already satisfied: kiwisolver>=1.3.1 in /usr/local/lib/python3.11/dist-packages (from matplotlib->catboost) (1.4.8)\n",
            "Requirement already satisfied: packaging>=20.0 in /usr/local/lib/python3.11/dist-packages (from matplotlib->catboost) (24.2)\n",
            "Requirement already satisfied: pillow>=8 in /usr/local/lib/python3.11/dist-packages (from matplotlib->catboost) (11.2.1)\n",
            "Requirement already satisfied: pyparsing>=2.3.1 in /usr/local/lib/python3.11/dist-packages (from matplotlib->catboost) (3.2.3)\n",
            "Requirement already satisfied: tenacity>=6.2.0 in /usr/local/lib/python3.11/dist-packages (from plotly->catboost) (9.1.2)\n",
            "Downloading catboost-1.2.8-cp311-cp311-manylinux2014_x86_64.whl (99.2 MB)\n",
            "\u001b[2K   \u001b[90m━━━━━━━━━━━━━━━━━━━━━━━━━━━━━━━━━━━━━━━━\u001b[0m \u001b[32m99.2/99.2 MB\u001b[0m \u001b[31m9.9 MB/s\u001b[0m eta \u001b[36m0:00:00\u001b[0m\n",
            "\u001b[?25hInstalling collected packages: catboost\n",
            "Successfully installed catboost-1.2.8\n"
          ]
        }
      ]
    },
    {
      "cell_type": "code",
      "execution_count": 2,
      "metadata": {
        "id": "aA3tPblNrb0Q"
      },
      "outputs": [],
      "source": [
        "import pandas as pd\n",
        "import numpy as np\n",
        "from sklearn.preprocessing import LabelEncoder, StandardScaler\n",
        "from sklearn.ensemble import VotingClassifier, RandomForestClassifier\n",
        "from xgboost import XGBClassifier\n",
        "from catboost import CatBoostClassifier\n",
        "from sklearn.model_selection import RandomizedSearchCV\n",
        "from sklearn.metrics import classification_report, accuracy_score, confusion_matrix\n",
        "import matplotlib.pyplot as plt\n",
        "import seaborn as sns\n",
        "import joblib\n",
        "# Initialize LabelEncoder here to make it globally accessible\n",
        "label_encoder = LabelEncoder()\n"
      ]
    },
    {
      "cell_type": "code",
      "source": [
        "# ==================== DATA LOADING & VALIDATION ====================\n",
        "def load_and_validate():\n",
        "    \"\"\"Load and validate UNSW-NB15 dataset\"\"\"\n",
        "    train = pd.read_csv(\"UNSW_NB15_training-set.csv\")\n",
        "    test = pd.read_csv(\"UNSW_NB15_testing-set.csv\")\n",
        "\n",
        "    # Verify no duplicates between train and test\n",
        "    duplicates = pd.merge(train, test, how='inner')\n",
        "    if len(duplicates) > 0:\n",
        "        print(f\"Removing {len(duplicates)} duplicate rows\")\n",
        "        train = train.drop_duplicates()\n",
        "        test = test[~test.isin(train)].dropna()\n",
        "\n",
        "    return train, test\n",
        "\n",
        "# ==================== FEATURE ENGINEERING ====================\n",
        "def engineer_features(df):\n",
        "    \"\"\"Create safe features for UNSW-NB15\"\"\"\n",
        "    # Remove obviously problematic features\n",
        "    df = df.drop(columns=['id', 'attack_cat'], errors='ignore')\n",
        "\n",
        "    # Create safe temporal features\n",
        "    safe_features = [\n",
        "        'dur', 'spkts', 'dpkts', 'sbytes', 'dbytes',\n",
        "        'rate', 'sttl', 'dttl', 'sload', 'dload',\n",
        "        'swin', 'dwin', 'stcpb', 'dtcpb', 'tcprtt',\n",
        "        'synack', 'ackdat', 'response_body_len'\n",
        "    ]\n",
        "\n",
        "    # Protocol and service features (categorical)\n",
        "    cat_features = ['proto', 'service', 'state']\n",
        "\n",
        "    # Frequency encoding for categoricals\n",
        "    for col in cat_features:\n",
        "        freq = df[col].value_counts(normalize=True)\n",
        "        df[col] = df[col].map(freq)\n",
        "\n",
        "    return df[safe_features + cat_features]\n",
        "\n",
        "# ==================== MODEL TRAINING ====================\n",
        "def train_models(X_train, y_train):\n",
        "    \"\"\"Train ensemble with cross-validation\"\"\"\n",
        "    # Base models\n",
        "    rf = RandomForestClassifier(\n",
        "        n_estimators=300,\n",
        "        max_depth=15,\n",
        "        class_weight='balanced',\n",
        "        n_jobs=-1,\n",
        "        random_state=42\n",
        "    )\n",
        "\n",
        "    xgb = XGBClassifier(\n",
        "        n_estimators=400,\n",
        "        learning_rate=0.1,\n",
        "        max_depth=6,\n",
        "        tree_method='gpu_hist',\n",
        "        predictor='gpu_predictor',\n",
        "        eval_metric='logloss',\n",
        "        random_state=42\n",
        "    )\n",
        "\n",
        "    cat = CatBoostClassifier(\n",
        "        iterations=800,\n",
        "        learning_rate=0.05,\n",
        "        depth=8,\n",
        "        l2_leaf_reg=3,\n",
        "        random_seed=42,\n",
        "        task_type='GPU',\n",
        "        silent=True\n",
        "    )\n",
        "\n",
        "    # Cross-validation\n",
        "    cv = StratifiedKFold(n_splits=5, shuffle=True, random_state=42)\n",
        "    print(\"Cross-validation results:\")\n",
        "    for name, model in [('RF', rf), ('XGB', xgb), ('Cat', cat)]:\n",
        "        scores = cross_val_score(model, X_train, y_train, cv=cv, scoring='f1')\n",
        "        print(f\"{name}: F1 = {np.mean(scores):.3f} ± {np.std(scores):.3f}\")\n",
        "\n",
        "    # Train final models\n",
        "    rf.fit(X_train, y_train)\n",
        "    xgb.fit(X_train, y_train)\n",
        "    cat.fit(X_train, y_train)\n",
        "\n",
        "    return rf, xgb, cat\n",
        "\n",
        "# ==================== EVALUATION ====================\n",
        "def evaluate_model(model, X_test, y_test):\n",
        "    \"\"\"Comprehensive model evaluation\"\"\"\n",
        "    y_pred = model.predict(X_test)\n",
        "    y_proba = model.predict_proba(X_test)[:,1]\n",
        "\n",
        "    # Optimal threshold finding\n",
        "    fpr, tpr, thresholds = roc_curve(y_test, y_proba)\n",
        "    optimal_idx = np.argmax(tpr - fpr)\n",
        "    optimal_threshold = thresholds[optimal_idx]\n",
        "\n",
        "    print(\"\\nClassification Report:\")\n",
        "    print(classification_report(y_test, y_pred))\n",
        "\n",
        "    print(f\"\\nOptimal Threshold: {optimal_threshold:.3f}\")\n",
        "\n",
        "    # Confusion matrix\n",
        "    plt.figure(figsize=(10, 8))\n",
        "    sns.heatmap(\n",
        "        confusion_matrix(y_test, y_pred),\n",
        "        annot=True,\n",
        "        fmt='d',\n",
        "        cmap='Blues',\n",
        "        xticklabels=['Normal', 'Attack'],\n",
        "        yticklabels=['Normal', 'Attack']\n",
        "    )\n",
        "    plt.title('Confusion Matrix')\n",
        "    plt.savefig('confusion_matrix.png')\n",
        "    plt.show()\n",
        "\n",
        "    return optimal_threshold\n",
        "\n",
        "# ==================== MAIN PIPELINE ====================\n",
        "def main():\n",
        "    # Load and validate data\n",
        "    train_df, test_df = load_and_validate()\n",
        "\n",
        "    # Feature engineering\n",
        "    X_train = engineer_features(train_df)\n",
        "    y_train = train_df['label']\n",
        "    X_test = engineer_features(test_df)\n",
        "    y_test = test_df['label']\n",
        "\n",
        "    # Feature scaling\n",
        "    scaler = StandardScaler()\n",
        "    X_train = scaler.fit_transform(X_train)\n",
        "    X_test = scaler.transform(X_test)\n",
        "\n",
        "    # Feature selection\n",
        "    selector = SelectKBest(mutual_info_classif, k=15)\n",
        "    X_train = selector.fit_transform(X_train, y_train)\n",
        "    X_test = selector.transform(X_test)\n",
        "\n",
        "    # Train models\n",
        "    rf, xgb, cat = train_models(X_train, y_train)\n",
        "\n",
        "    # Create ensemble\n",
        "    ensemble = VotingClassifier(\n",
        "        estimators=[('rf', rf), ('xgb', xgb), ('cat', cat)],\n",
        "        voting='soft',\n",
        "        weights=[1, 2, 2]\n",
        "    )\n",
        "    ensemble.fit(X_train, y_train)\n",
        "\n",
        "    # Evaluate\n",
        "    optimal_threshold = evaluate_model(ensemble, X_test, y_test)\n",
        "\n",
        "    # Save artifacts\n",
        "    artifacts = {\n",
        "        'model': ensemble,\n",
        "        'scaler': scaler,\n",
        "        'feature_selector': selector,\n",
        "        'optimal_threshold': optimal_threshold\n",
        "    }\n",
        "\n",
        "    joblib.dump(artifacts, \"unsw_nb15_detector.pkl\")\n",
        "    print(\"\\nModel artifacts saved successfully\")\n",
        "\n",
        "if __name__ == \"__main__\":\n",
        "    main()"
      ],
      "metadata": {
        "colab": {
          "base_uri": "https://localhost:8080/",
          "height": 1000
        },
        "id": "QBaVJb_grm7L",
        "outputId": "402d37ba-6f34-45aa-b031-7131e2bd2d2c"
      },
      "execution_count": 13,
      "outputs": [
        {
          "output_type": "stream",
          "name": "stdout",
          "text": [
            "Cross-validation results:\n",
            "RF: F1 = 0.935 ± 0.003\n",
            "XGB: F1 = 0.942 ± 0.002\n",
            "Cat: F1 = 0.941 ± 0.002\n",
            "\n",
            "Classification Report:\n",
            "              precision    recall  f1-score   support\n",
            "\n",
            "           0       0.79      0.96      0.87     56000\n",
            "           1       0.98      0.88      0.93    119341\n",
            "\n",
            "    accuracy                           0.91    175341\n",
            "   macro avg       0.88      0.92      0.90    175341\n",
            "weighted avg       0.92      0.91      0.91    175341\n",
            "\n",
            "\n",
            "Optimal Threshold: 0.322\n"
          ]
        },
        {
          "output_type": "display_data",
          "data": {
            "text/plain": [
              "<Figure size 1000x800 with 2 Axes>"
            ],
            "image/png": "[encoded data removed]"
          },
          "metadata": {}
        },
        {
          "output_type": "stream",
          "name": "stdout",
          "text": [
            "\n",
            "Model artifacts saved successfully\n"
          ]
        }
      ]
    },
    {
      "cell_type": "code",
      "source": [
        "import joblib\n",
        "\n",
        "# Load the saved artifacts\n",
        "artifacts = joblib.load(\"unsw_nb15_detector.pkl\")\n",
        "\n",
        "# Extract and save individual components\n",
        "scaler = artifacts['scaler']\n",
        "selector = artifacts['feature_selector']\n",
        "\n",
        "joblib.dump(scaler, \"scaler.pkl\")\n",
        "joblib.dump(selector, \"feature_selector.pkl\")\n",
        "\n",
        "print(\"Scaler and feature selector saved separately\")"
      ],
      "metadata": {
        "colab": {
          "base_uri": "https://localhost:8080/"
        },
        "id": "O2Z7IvgEyR1D",
        "outputId": "130514da-d5d6-49ec-9839-c55ed04492cc"
      },
      "execution_count": 17,
      "outputs": [
        {
          "output_type": "stream",
          "name": "stdout",
          "text": [
            "Scaler and feature selector saved separately\n"
          ]
        }
      ]
    }
  ]
}